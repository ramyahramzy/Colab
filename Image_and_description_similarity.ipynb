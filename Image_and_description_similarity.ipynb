{
  "nbformat": 4,
  "nbformat_minor": 0,
  "metadata": {
    "colab": {
      "provenance": [],
      "authorship_tag": "ABX9TyPMtwQ7cu97xq6wsex4DLIE",
      "include_colab_link": true
    },
    "kernelspec": {
      "name": "python3",
      "display_name": "Python 3"
    },
    "language_info": {
      "name": "python"
    }
  },
  "cells": [
    {
      "cell_type": "markdown",
      "metadata": {
        "id": "view-in-github",
        "colab_type": "text"
      },
      "source": [
        "<a href=\"https://colab.research.google.com/github/ramyahramzy/Colab/blob/main/Image_and_description_similarity.ipynb\" target=\"_parent\"><img src=\"https://colab.research.google.com/assets/colab-badge.svg\" alt=\"Open In Colab\"/></a>"
      ]
    },
    {
      "cell_type": "markdown",
      "source": [
        "# If you're in Colab, run this cell first"
      ],
      "metadata": {
        "id": "kqixPBCWcz-_"
      }
    },
    {
      "cell_type": "code",
      "source": [
        "\n",
        "!pip -q install git+https://github.com/openai/CLIP.git ftfy regex tqdm\n",
        "\n",
        "import torch\n",
        "import clip\n",
        "from PIL import Image\n",
        "import requests\n",
        "from io import BytesIO\n",
        "import torch.nn.functional as F"
      ],
      "metadata": {
        "colab": {
          "base_uri": "https://localhost:8080/"
        },
        "id": "2XjL5Qq3cy7G",
        "outputId": "20a86937-e630-4c26-db87-d80cb7e08272"
      },
      "execution_count": null,
      "outputs": [
        {
          "output_type": "stream",
          "name": "stdout",
          "text": [
            "  Preparing metadata (setup.py) ... \u001b[?25l\u001b[?25hdone\n",
            "\u001b[2K   \u001b[90m━━━━━━━━━━━━━━━━━━━━━━━━━━━━━━━━━━━━━━━━\u001b[0m \u001b[32m44.8/44.8 kB\u001b[0m \u001b[31m2.1 MB/s\u001b[0m eta \u001b[36m0:00:00\u001b[0m\n",
            "\u001b[2K   \u001b[90m━━━━━━━━━━━━━━━━━━━━━━━━━━━━━━━━━━━━━━━━\u001b[0m \u001b[32m363.4/363.4 MB\u001b[0m \u001b[31m3.7 MB/s\u001b[0m eta \u001b[36m0:00:00\u001b[0m\n",
            "\u001b[2K   \u001b[90m━━━━━━━━━━━━━━━━━━━━━━━━━━━━━━━━━━━━━━━━\u001b[0m \u001b[32m13.8/13.8 MB\u001b[0m \u001b[31m52.0 MB/s\u001b[0m eta \u001b[36m0:00:00\u001b[0m\n",
            "\u001b[2K   \u001b[90m━━━━━━━━━━━━━━━━━━━━━━━━━━━━━━━━━━━━━━━━\u001b[0m \u001b[32m24.6/24.6 MB\u001b[0m \u001b[31m11.8 MB/s\u001b[0m eta \u001b[36m0:00:00\u001b[0m\n",
            "\u001b[2K   \u001b[90m━━━━━━━━━━━━━━━━━━━━━━━━━━━━━━━━━━━━━━━━\u001b[0m \u001b[32m883.7/883.7 kB\u001b[0m \u001b[31m23.3 MB/s\u001b[0m eta \u001b[36m0:00:00\u001b[0m\n",
            "\u001b[2K   \u001b[90m━━━━━━━━━━━━━━━━━━━━━━━━━━━━━━━━━━━━━━━━\u001b[0m \u001b[32m664.8/664.8 MB\u001b[0m \u001b[31m2.2 MB/s\u001b[0m eta \u001b[36m0:00:00\u001b[0m\n",
            "\u001b[2K   \u001b[90m━━━━━━━━━━━━━━━━━━━━━━━━━━━━━━━━━━━━━━━━\u001b[0m \u001b[32m211.5/211.5 MB\u001b[0m \u001b[31m6.2 MB/s\u001b[0m eta \u001b[36m0:00:00\u001b[0m\n",
            "\u001b[2K   \u001b[90m━━━━━━━━━━━━━━━━━━━━━━━━━━━━━━━━━━━━━━━━\u001b[0m \u001b[32m56.3/56.3 MB\u001b[0m \u001b[31m12.7 MB/s\u001b[0m eta \u001b[36m0:00:00\u001b[0m\n",
            "\u001b[2K   \u001b[90m━━━━━━━━━━━━━━━━━━━━━━━━━━━━━━━━━━━━━━━━\u001b[0m \u001b[32m127.9/127.9 MB\u001b[0m \u001b[31m7.3 MB/s\u001b[0m eta \u001b[36m0:00:00\u001b[0m\n",
            "\u001b[2K   \u001b[90m━━━━━━━━━━━━━━━━━━━━━━━━━━━━━━━━━━━━━━━━\u001b[0m \u001b[32m207.5/207.5 MB\u001b[0m \u001b[31m6.1 MB/s\u001b[0m eta \u001b[36m0:00:00\u001b[0m\n",
            "\u001b[2K   \u001b[90m━━━━━━━━━━━━━━━━━━━━━━━━━━━━━━━━━━━━━━━━\u001b[0m \u001b[32m188.7/188.7 MB\u001b[0m \u001b[31m6.2 MB/s\u001b[0m eta \u001b[36m0:00:00\u001b[0m\n",
            "\u001b[2K   \u001b[90m━━━━━━━━━━━━━━━━━━━━━━━━━━━━━━━━━━━━━━━━\u001b[0m \u001b[32m21.1/21.1 MB\u001b[0m \u001b[31m83.2 MB/s\u001b[0m eta \u001b[36m0:00:00\u001b[0m\n",
            "\u001b[?25h  Building wheel for clip (setup.py) ... \u001b[?25l\u001b[?25hdone\n"
          ]
        }
      ]
    },
    {
      "cell_type": "markdown",
      "source": [
        "\n",
        "\n",
        "# -----------------------------\n",
        "# 1) Load CLIP and pick a device\n",
        "# -----------------------------"
      ],
      "metadata": {
        "id": "7a1sNiZlc2Q5"
      }
    },
    {
      "cell_type": "code",
      "source": [
        "device = \"cuda\" if torch.cuda.is_available() else \"cpu\"\n",
        "model, preprocess = clip.load(\"ViT-B/32\", device=device)"
      ],
      "metadata": {
        "colab": {
          "base_uri": "https://localhost:8080/"
        },
        "id": "oaDQJfoHc-WP",
        "outputId": "34212bf7-bbd4-4b3b-a1cc-90c89994255d"
      },
      "execution_count": null,
      "outputs": [
        {
          "output_type": "stream",
          "name": "stderr",
          "text": [
            "100%|███████████████████████████████████████| 338M/338M [00:03<00:00, 95.8MiB/s]\n"
          ]
        }
      ]
    },
    {
      "cell_type": "markdown",
      "source": [
        "# -----------------------------\n",
        "# 2) Choose an image\n",
        "#    (Use any URL you like)\n",
        "# -----------------------------"
      ],
      "metadata": {
        "id": "YmgCtPgAc4n1"
      }
    },
    {
      "cell_type": "code",
      "source": [
        "image_url = \"https://images.unsplash.com/photo-1518791841217-8f162f1e1131\"  # a cat photo\n",
        "img = Image.open(BytesIO(requests.get(image_url).content)).convert(\"RGB\")"
      ],
      "metadata": {
        "id": "fD5QS4jic6um"
      },
      "execution_count": null,
      "outputs": []
    },
    {
      "cell_type": "markdown",
      "source": [
        "\n",
        "# -----------------------------\n",
        "# 3) Create captions\n",
        "# -----------------------------"
      ],
      "metadata": {
        "id": "u6cJrq62dPrG"
      }
    },
    {
      "cell_type": "code",
      "source": [
        "\n",
        "captions = [\n",
        "    \"a close-up photo of a cat\",\n",
        "    \"a red sports car on a race track\",\n",
        "    \"a small kitten sitting on a couch\",\n",
        "    \"a bowl of fresh salad with tomatoes\",\n",
        "]"
      ],
      "metadata": {
        "id": "nEeEXlj0dNXn"
      },
      "execution_count": null,
      "outputs": []
    },
    {
      "cell_type": "markdown",
      "source": [
        "# -----------------------------\n",
        "# 4) Preprocess & Encode\n",
        "# -----------------------------"
      ],
      "metadata": {
        "id": "cQiTzfdmdTXe"
      }
    },
    {
      "cell_type": "code",
      "source": [
        "\n",
        "with torch.no_grad():\n",
        "    # Image -> embedding\n",
        "    image_input = preprocess(img).unsqueeze(0).to(device)\n",
        "    image_features = model.encode_image(image_input)\n",
        "    image_features = F.normalize(image_features, dim=-1)\n",
        "\n",
        "    # Text -> embeddings\n",
        "    text_tokens = clip.tokenize(captions).to(device)\n",
        "    text_features = model.encode_text(text_tokens)\n",
        "    text_features = F.normalize(text_features, dim=-1)"
      ],
      "metadata": {
        "id": "Hv0WV62YdSvv"
      },
      "execution_count": null,
      "outputs": []
    },
    {
      "cell_type": "code",
      "source": [
        "text_features"
      ],
      "metadata": {
        "colab": {
          "base_uri": "https://localhost:8080/"
        },
        "id": "aqWwjbcSflE5",
        "outputId": "db5e3995-25e6-4f0a-a395-359b1d1dbecb"
      },
      "execution_count": null,
      "outputs": [
        {
          "output_type": "execute_result",
          "data": {
            "text/plain": [
              "tensor([[ 0.0191,  0.0050, -0.0293,  ..., -0.0389, -0.0538, -0.0029],\n",
              "        [ 0.0028, -0.0289, -0.0119,  ...,  0.0458, -0.0463,  0.0140],\n",
              "        [ 0.0042, -0.0402, -0.0526,  ..., -0.0016, -0.0627,  0.0095],\n",
              "        [-0.0659, -0.0025,  0.0366,  ...,  0.0042, -0.0410, -0.0184]])"
            ]
          },
          "metadata": {},
          "execution_count": 9
        }
      ]
    },
    {
      "cell_type": "code",
      "source": [
        "# -----------------------------\n",
        "# 5) Cosine similarity\n",
        "# -----------------------------\n",
        "# cosine_sim[i] = similarity between image and captions[i]\n",
        "cosine_sim = (image_features @ text_features.T).squeeze(0).tolist()"
      ],
      "metadata": {
        "id": "_C5qW_aCdWo3"
      },
      "execution_count": null,
      "outputs": []
    },
    {
      "cell_type": "code",
      "execution_count": null,
      "metadata": {
        "colab": {
          "base_uri": "https://localhost:8080/"
        },
        "id": "lWovG7YtcvmA",
        "outputId": "c5d38adb-78f1-4e76-f66d-c8e2b34264f0"
      },
      "outputs": [
        {
          "output_type": "stream",
          "name": "stdout",
          "text": [
            "Image URL: https://images.unsplash.com/photo-1518791841217-8f162f1e1131\n",
            "\n",
            "Similarities (higher is more similar; max = 1.0):\n",
            "\n",
            "0.2694  |  a small kitten sitting on a couch\n",
            "0.2672  |  a close-up photo of a cat\n",
            "0.1727  |  a bowl of fresh salad with tomatoes\n",
            "0.1107  |  a red sports car on a race track\n"
          ]
        }
      ],
      "source": [
        "# -----------------------------\n",
        "# 6) Show results\n",
        "# -----------------------------\n",
        "print(\"Image URL:\", image_url)\n",
        "print(\"\\nSimilarities (higher is more similar; max = 1.0):\\n\")\n",
        "for cap, sim in sorted(zip(captions, cosine_sim), key=lambda x: x[1], reverse=True):\n",
        "    print(f\"{sim:.4f}  |  {cap}\")\n"
      ]
    }
  ]
}