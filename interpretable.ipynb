{
  "nbformat": 4,
  "nbformat_minor": 0,
  "metadata": {
    "colab": {
      "provenance": [],
      "authorship_tag": "ABX9TyMvne8Okg4LBHtlsd7ZmEcZ",
      "include_colab_link": true
    },
    "kernelspec": {
      "name": "python3",
      "display_name": "Python 3"
    },
    "language_info": {
      "name": "python"
    }
  },
  "cells": [
    {
      "cell_type": "markdown",
      "metadata": {
        "id": "view-in-github",
        "colab_type": "text"
      },
      "source": [
        "<a href=\"https://colab.research.google.com/github/ramyahramzy/Colab/blob/main/interpretable.ipynb\" target=\"_parent\"><img src=\"https://colab.research.google.com/assets/colab-badge.svg\" alt=\"Open In Colab\"/></a>"
      ]
    },
    {
      "cell_type": "code",
      "execution_count": 1,
      "metadata": {
        "id": "5QBUzi3OvbUs"
      },
      "outputs": [],
      "source": [
        "!pip -q install torch numpy scikit-learn\n",
        "\n",
        "import torch, torch.nn as nn\n",
        "import numpy as np\n",
        "from sklearn.datasets import make_classification\n",
        "from sklearn.model_selection import train_test_split\n",
        "from sklearn.metrics import accuracy_score\n",
        "\n",
        "# Make a dataset with 4 features, only 3 are truly informative\n",
        "X, y = make_classification(\n",
        "    n_samples=4000, n_features=4, n_informative=3, n_redundant=0,\n",
        "    class_sep=1.5, random_state=42\n",
        ")\n",
        "feature_names = [\"BMI\", \"Glucose\", \"Age\", \"Noise\"]  # pretend these are real features\n",
        "\n",
        "X_train, X_test, y_train, y_test = train_test_split(\n",
        "    X, y, test_size=0.25, random_state=42, stratify=y\n",
        ")\n",
        "\n",
        "X_train_t = torch.tensor(X_train, dtype=torch.float32)\n",
        "y_train_t = torch.tensor(y_train, dtype=torch.long)\n",
        "X_test_t  = torch.tensor(X_test,  dtype=torch.float32)\n",
        "y_test_t  = torch.tensor(y_test,  dtype=torch.long)\n"
      ]
    },
    {
      "cell_type": "code",
      "source": [
        "class LogisticReg(nn.Module):\n",
        "    def __init__(self, n_in):\n",
        "        super().__init__()\n",
        "        self.linear = nn.Linear(n_in, 2)  # binary classes -> 2 logits\n",
        "    def forward(self, x):\n",
        "        return self.linear(x)\n",
        "\n",
        "model_lr = LogisticReg(X_train.shape[1])\n",
        "opt = torch.optim.Adam(model_lr.parameters(), lr=1e-2)\n",
        "loss_fn = nn.CrossEntropyLoss()\n",
        "\n",
        "for epoch in range(200):\n",
        "    model_lr.train()\n",
        "    logits = model_lr(X_train_t)\n",
        "    loss = loss_fn(logits, y_train_t)\n",
        "    opt.zero_grad(); loss.backward(); opt.step()\n",
        "\n",
        "model_lr.eval()\n",
        "pred = model_lr(X_test_t).argmax(dim=1).cpu().numpy()\n",
        "print(\"LogReg accuracy:\", accuracy_score(y_test, pred))\n",
        "\n",
        "# Inspect weights (class 1 minus class 0 effect)\n",
        "with torch.no_grad():\n",
        "    W = model_lr.linear.weight.detach().cpu().numpy()  # shape [2, 4]\n",
        "    # difference between class-1 and class-0 logits per feature\n",
        "    interpretable_w = W[1] - W[0]\n",
        "\n",
        "print(\"Feature weights (higher => pushes toward class 1):\")\n",
        "for name, w in zip(feature_names, interpretable_w):\n",
        "    print(f\"  {name:8s}  {w:+.3f}\")\n"
      ],
      "metadata": {
        "colab": {
          "base_uri": "https://localhost:8080/"
        },
        "id": "izjbJRmGvgKI",
        "outputId": "1db58451-5f1c-4777-81bd-ca37a5f6d2c0"
      },
      "execution_count": 2,
      "outputs": [
        {
          "output_type": "stream",
          "name": "stdout",
          "text": [
            "LogReg accuracy: 0.939\n",
            "Feature weights (higher => pushes toward class 1):\n",
            "  BMI       +1.117\n",
            "  Glucose   +1.569\n",
            "  Age       -0.001\n",
            "  Noise     +0.684\n"
          ]
        }
      ]
    },
    {
      "cell_type": "code",
      "source": [
        "class MLP(nn.Module):\n",
        "    def __init__(self, n_in):\n",
        "        super().__init__()\n",
        "        self.net = nn.Sequential(\n",
        "            nn.Linear(n_in, 32), nn.ReLU(),\n",
        "            nn.Linear(32, 16), nn.ReLU(),\n",
        "            nn.Linear(16, 2)\n",
        "        )\n",
        "    def forward(self, x): return self.net(x)\n",
        "\n",
        "model_mlp = MLP(X_train.shape[1])\n",
        "opt = torch.optim.Adam(model_mlp.parameters(), lr=1e-3)\n",
        "loss_fn = nn.CrossEntropyLoss()\n",
        "\n",
        "for epoch in range(15):\n",
        "    model_mlp.train()\n",
        "    logits = model_mlp(X_train_t)\n",
        "    loss = loss_fn(logits, y_train_t)\n",
        "    opt.zero_grad(); loss.backward(); opt.step()\n",
        "\n",
        "model_mlp.eval()\n",
        "pred = model_mlp(X_test_t).argmax(dim=1).cpu().numpy()\n",
        "print(\"MLP accuracy:\", accuracy_score(y_test, pred))\n"
      ],
      "metadata": {
        "colab": {
          "base_uri": "https://localhost:8080/"
        },
        "id": "fwN_zdcrwguT",
        "outputId": "58008513-6894-4bdf-e6d1-3c01c97eafcb"
      },
      "execution_count": 3,
      "outputs": [
        {
          "output_type": "stream",
          "name": "stdout",
          "text": [
            "MLP accuracy: 0.861\n"
          ]
        }
      ]
    },
    {
      "cell_type": "code",
      "source": [
        "rng = np.random.default_rng(0)\n",
        "\n",
        "def perm_importance(model, X_test, y_test, repeats=5):\n",
        "    base_pred = model(torch.tensor(X_test, dtype=torch.float32)).argmax(dim=1).cpu().numpy()\n",
        "    base_acc = accuracy_score(y_test, base_pred)\n",
        "    importances = []\n",
        "    for j in range(X_test.shape[1]):\n",
        "        drops = []\n",
        "        for _ in range(repeats):\n",
        "            Xp = X_test.copy()\n",
        "            rng.shuffle(Xp[:, j])  # destroy info in feature j\n",
        "            pred = model(torch.tensor(Xp, dtype=torch.float32)).argmax(dim=1).cpu().numpy()\n",
        "            drops.append(base_acc - accuracy_score(y_test, pred))\n",
        "        importances.append(np.mean(drops))\n",
        "    return base_acc, np.array(importances)\n",
        "\n",
        "# LR permutation importance\n",
        "model_lr.eval()\n",
        "acc_lr, imp_lr = perm_importance(model_lr, X_test, y_test)\n",
        "print(\"\\nPermutation importance (LogReg):\")\n",
        "for name, imp in sorted(zip(feature_names, imp_lr), key=lambda x: -x[1]):\n",
        "    print(f\"  {name:8s}  drop={imp:.4f}\")\n",
        "\n",
        "# MLP permutation importance\n",
        "model_mlp.eval()\n",
        "acc_mlp, imp_mlp = perm_importance(model_mlp, X_test, y_test)\n",
        "print(\"\\nPermutation importance (MLP):\")\n",
        "for name, imp in sorted(zip(feature_names, imp_mlp), key=lambda x: -x[1]):\n",
        "    print(f\"  {name:8s}  drop={imp:.4f}\")\n"
      ],
      "metadata": {
        "colab": {
          "base_uri": "https://localhost:8080/"
        },
        "id": "wXGRHy8ywnZv",
        "outputId": "a983d478-4c7f-45d7-bd9a-45d9aff8d6da"
      },
      "execution_count": 4,
      "outputs": [
        {
          "output_type": "stream",
          "name": "stdout",
          "text": [
            "\n",
            "Permutation importance (LogReg):\n",
            "  Glucose   drop=0.3130\n",
            "  BMI       drop=0.0970\n",
            "  Noise     drop=0.0398\n",
            "  Age       drop=0.0000\n",
            "\n",
            "Permutation importance (MLP):\n",
            "  Glucose   drop=0.1906\n",
            "  BMI       drop=0.0830\n",
            "  Noise     drop=0.0316\n",
            "  Age       drop=-0.0016\n"
          ]
        }
      ]
    }
  ]
}